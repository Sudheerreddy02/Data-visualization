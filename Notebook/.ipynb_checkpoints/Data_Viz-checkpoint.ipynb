{
 "cells": [
  {
   "cell_type": "markdown",
   "metadata": {
    "collapsed": true
   },
   "source": [
    "# Data Visualisation with Python "
   ]
  },
  {
   "cell_type": "markdown",
   "metadata": {},
   "source": [
    "\n",
    "<li> <b>  Data visualization refers to the techniques used to communicate data or information by encoding it as visual objects (e.g., points, lines or bars). <br>\n",
    "<li> <b>  The main goal of data visualization is to communicate information clearly and effectively through graphical means"
   ]
  },
  {
   "cell_type": "markdown",
   "metadata": {},
   "source": [
    "**Check out this workshop for an introdcution to Pandas** \n",
    "\n",
    "*  [Pandas Workshop](https://github.com/IBMDeveloperUK/python-pandas-workshop)\n",
    "* [Code Pattern](https://developer.ibm.com/technologies/data-science/tutorials/data-analysis-in-python-using-pandas)"
   ]
  },
  {
   "cell_type": "markdown",
   "metadata": {},
   "source": [
    "## DataViz using Pandas, Matplotlib and Seaborn"
   ]
  },
  {
   "cell_type": "code",
   "execution_count": 4,
   "metadata": {},
   "outputs": [],
   "source": [
    "import numpy as np\n",
    "import pandas as pd\n",
    "import matplotlib as mpl\n",
    "import matplotlib.pyplot as plt"
   ]
  },
  {
   "cell_type": "code",
   "execution_count": null,
   "metadata": {},
   "outputs": [],
   "source": [
    "x = [1,4,7]\n",
    "y = [1,6,9]\n",
    "\n",
    "plt.plot(x,y)\n",
    "plt.show()\n",
    "\n",
    "#plt.title(\"Test Plot\")"
   ]
  },
  {
   "cell_type": "code",
   "execution_count": null,
   "metadata": {},
   "outputs": [],
   "source": [
    "df= pd.DataFrame({'xval': range(1,11), 'yval': np.random.randn(10)})\n",
    "\n",
    "# plot\n",
    "plt.plot('xval','yval', data=df)\n",
    "plt.show()\n"
   ]
  },
  {
   "cell_type": "markdown",
   "metadata": {},
   "source": [
    "### [Lineplot](https://matplotlib.org/3.1.0/api/_as_gen/matplotlib.pyplot.plot.html)"
   ]
  },
  {
   "cell_type": "code",
   "execution_count": null,
   "metadata": {},
   "outputs": [],
   "source": [
    "StudentID = [192,193,194,195,196,197,198,199,200,201]\n",
    "Scores = [9.2,8.6,8,7.2,6.9,7,6.5,8.2,7.5,6.3]\n",
    "\n",
    "\n",
    "Data = {'StudentID' : [192,193,194,195,196,197,198,199,200,201], 'Scores' : [9.2,8.6,8,7.2,6.9,7,6.5,8.2,7.5,6.3]}\n",
    "df = pd.DataFrame(Data,columns=['StudentID','Scores']) \n",
    "\n",
    "plt.plot(StudentID,Scores)\n",
    "\n",
    "\n",
    "plt.plot(StudentID,Scores, color='red', marker='o')\n",
    "plt.title('Exam Scores', fontsize=14)\n",
    "plt.xlabel('Student ID', fontsize=14)\n",
    "plt.ylabel('Scores', fontsize=14)\n",
    "plt.grid(True)\n",
    "plt.show()\n",
    "\n"
   ]
  },
  {
   "cell_type": "code",
   "execution_count": null,
   "metadata": {},
   "outputs": [],
   "source": [
    "StudID = [192,193,194,195,196,197,198,199,200,201]\n",
    "Theory_Scores = [9.2,8.6,8,7.2,6.9,7,6.5,8.2,7.5,6.3]\n",
    "\n",
    "StudID = [192,193,194,195,196,197,198,199,200,201]\n",
    "Prac_Scores = [9,8.2,7.5,7,7.5,6.8,7,8.6,7.9,6.5]\n",
    "\n",
    "plt.plot(StudID, Theory_Scores, label =\"Theory Scores\", color='red', marker='o')\n",
    "plt.plot(StudID, Prac_Scores, label =\"Practical Scores\", color='Blue', marker='x')\n",
    "\n",
    "\n",
    "plt.title('Exam Scores', fontsize=14)\n",
    "plt.xlabel('Student ID', fontsize=14)\n",
    "plt.ylabel('Scores', fontsize=14)\n",
    "plt.legend()\n",
    "plt.grid(True)\n",
    "plt.show()"
   ]
  },
  {
   "cell_type": "markdown",
   "metadata": {},
   "source": [
    "## Linspace \n",
    "\n",
    "**Tool in Python for creating numeric sequences. Linspace creates Sequences of Evenly spaced values within an Interval.**\n",
    "\n",
    "**Read More here : [Linspace](https://numpy.org/doc/stable/reference/generated/numpy.linspace.html)**"
   ]
  },
  {
   "cell_type": "code",
   "execution_count": null,
   "metadata": {},
   "outputs": [],
   "source": [
    "plt.figure(figsize=(10,5))\n",
    "\n",
    "x = np.linspace(0, 10, 100) \n",
    "y = np.sin(x) # Sine Graph\n",
    "plt.grid(True)\n",
    "\n",
    "plt.plot(x,y,'-r')\n",
    "plt.xlabel(\"X - Axis\")\n",
    "plt.ylabel(\"Y - Axis\")\n",
    "\n",
    "\n",
    "plt.show()"
   ]
  },
  {
   "cell_type": "markdown",
   "metadata": {},
   "source": [
    "<div class=\"alert alert-success\"> You can use the following commands to change your plots \n",
    "    \n",
    "<br> \n",
    "    \n",
    "<li> 'b-' - Solid Blue Line\n",
    "<li> 'r^' - Red Traingles\n",
    "<li> 'go' - Green Dots \n",
    "<li> 'ro' - Red Dots\n",
    "<li> 'rv' - Reverse Traingles\n",
    "    \n",
    "<br>\n",
    "    \n",
    "<b> Try your own plots using these different combinations </b>\n",
    "\n",
    "</div>"
   ]
  },
  {
   "cell_type": "code",
   "execution_count": null,
   "metadata": {},
   "outputs": [],
   "source": [
    "plt.figure(figsize=(14,6))\n",
    "plt.grid(True)\n",
    "x = np.linspace(0, 10, 100) \n",
    "y1 = np.sin(x) \n",
    "y2 = np.cos(x)\n",
    "\n",
    "plt.plot(x,y1, linewidth =4, label='SinX')\n",
    "plt.plot(x,y2, linewidth =4, label='CosX')\n",
    "plt.legend(loc = 'upper right')\n",
    "plt.xlabel(\"X - Axis\")\n",
    "plt.ylabel(\"Y - Axis\") \n",
    "plt.show()\n",
    "\n",
    "\n",
    "plt.figure(figsize = (12,6))\n",
    "plt.subplot(1,2,1)\n",
    "plt.plot(x,y1,'-r')\n",
    "\n",
    "plt.subplot(1,2,2)\n",
    "plt.plot(x,y2,'-b')\n",
    "\n",
    "plt.show()"
   ]
  },
  {
   "cell_type": "markdown",
   "metadata": {},
   "source": [
    "### [SubPlots](https://matplotlib.org/3.1.1/api/_as_gen/matplotlib.pyplot.subplot.html?highlight=subplot#matplotlib.pyplot.subplot)"
   ]
  },
  {
   "cell_type": "code",
   "execution_count": null,
   "metadata": {},
   "outputs": [],
   "source": [
    "plt.style.use(['dark_background'])\n",
    "\n",
    "plt.figure(figsize = (12,6))\n",
    "plt.subplot(1,2,1)\n",
    "plt.plot(x,y1,'-r')\n",
    "plt.grid(True)\n",
    "plt.subplot(1,2,2)\n",
    "plt.plot(x,y2,'-b')\n",
    "plt.grid(True)"
   ]
  },
  {
   "cell_type": "markdown",
   "metadata": {},
   "source": [
    "## Customise your charts further using [Style Sheets](https://matplotlib.org/tutorials/introductory/customizing.html)"
   ]
  },
  {
   "cell_type": "code",
   "execution_count": null,
   "metadata": {},
   "outputs": [],
   "source": [
    "plt.style.use('seaborn-darkgrid')\n",
    "\n",
    "\n",
    "x1= ['Australia','Hungary','Japan'] \n",
    "y1= np.array([3,3,2])\n",
    "y2 =np.array([4,2,2])\n",
    "y3 =np.array([3,2,3])\n",
    "\n",
    "plt.figure(figsize=(6,8))\n",
    "plt.bar(x1,y1,label = \"Gold Medals\",width = 0.5,color = '#0040ff')\n",
    "plt.bar(x1,y2,label = \"Silver Medals\",width = 0.5 ,bottom = y1 , color = '#0080ff')\n",
    "plt.bar(x1,y3,label = \"Bronze Medals\",width = 0.5 ,bottom = y1+y2 , color = '#00bfff')\n",
    "plt.xlabel('$ Countries $')\n",
    "plt.ylabel('$ Medals $')\n",
    "plt.title(\"Medal Summary\")\n",
    "plt.legend()\n",
    "\n",
    "plt.grid(linestyle='-', linewidth=0.5)\n",
    "\n",
    "plt.show()"
   ]
  },
  {
   "cell_type": "code",
   "execution_count": null,
   "metadata": {},
   "outputs": [],
   "source": [
    "Age = [28,33,43,45,55]\n",
    "Name = [\"Joe\", \"Priya\", 'Donna', \"Shankar\", \"Mo\"]\n",
    "plt.barh(Name,Age, color =\"#FF6F00\")\n",
    "plt.show()\n"
   ]
  },
  {
   "cell_type": "code",
   "execution_count": null,
   "metadata": {},
   "outputs": [],
   "source": [
    "x1 = [\"Joe\", \"Priya\", 'Donna', \"Shankar\", \"Mo\"]\n",
    "\n",
    "y1 = [9,7,8,5,6]\n",
    "y2 = [4,3,1,2,9]\n",
    "\n",
    "plt.figure (figsize = (8,4))\n",
    "\n",
    "\n",
    "plt.barh(x1,y1,label = \"Fiction\",color = '#ff00bf')\n",
    "plt.barh(x1,y2,label = \"Non Fiction\", left = y1 , color = '#bf00ff')\n",
    "\n",
    "plt.title('Books Read')\n",
    "plt.legend()\n",
    "\n",
    "plt.show()"
   ]
  },
  {
   "cell_type": "markdown",
   "metadata": {},
   "source": [
    "### Let us now upload a Dataset to continue creating charts using Matplotlib and Pandas Visualisation"
   ]
  },
  {
   "cell_type": "code",
   "execution_count": 5,
   "metadata": {},
   "outputs": [
    {
     "data": {
      "text/html": [
       "<div>\n",
       "<style scoped>\n",
       "    .dataframe tbody tr th:only-of-type {\n",
       "        vertical-align: middle;\n",
       "    }\n",
       "\n",
       "    .dataframe tbody tr th {\n",
       "        vertical-align: top;\n",
       "    }\n",
       "\n",
       "    .dataframe thead th {\n",
       "        text-align: right;\n",
       "    }\n",
       "</style>\n",
       "<table border=\"1\" class=\"dataframe\">\n",
       "  <thead>\n",
       "    <tr style=\"text-align: right;\">\n",
       "      <th></th>\n",
       "      <th>Platform</th>\n",
       "      <th>Action</th>\n",
       "      <th>Action, Adventure</th>\n",
       "      <th>Adventure</th>\n",
       "      <th>Fighting</th>\n",
       "      <th>Platformer</th>\n",
       "      <th>Puzzle</th>\n",
       "      <th>RPG</th>\n",
       "      <th>Racing</th>\n",
       "      <th>Shooter</th>\n",
       "      <th>Simulation</th>\n",
       "      <th>Sports</th>\n",
       "      <th>Strategy</th>\n",
       "    </tr>\n",
       "  </thead>\n",
       "  <tbody>\n",
       "    <tr>\n",
       "      <th>0</th>\n",
       "      <td>DrCast</td>\n",
       "      <td>6.882857</td>\n",
       "      <td>7.511111</td>\n",
       "      <td>6.281818</td>\n",
       "      <td>8.200000</td>\n",
       "      <td>8.340000</td>\n",
       "      <td>8.088889</td>\n",
       "      <td>7.700000</td>\n",
       "      <td>7.042500</td>\n",
       "      <td>7.616667</td>\n",
       "      <td>7.628571</td>\n",
       "      <td>7.272222</td>\n",
       "      <td>6.433333</td>\n",
       "    </tr>\n",
       "    <tr>\n",
       "      <th>1</th>\n",
       "      <td>GBoyAd</td>\n",
       "      <td>6.373077</td>\n",
       "      <td>7.507692</td>\n",
       "      <td>6.057143</td>\n",
       "      <td>6.226316</td>\n",
       "      <td>6.970588</td>\n",
       "      <td>6.532143</td>\n",
       "      <td>7.542857</td>\n",
       "      <td>6.657143</td>\n",
       "      <td>6.444444</td>\n",
       "      <td>6.928571</td>\n",
       "      <td>6.694444</td>\n",
       "      <td>7.175000</td>\n",
       "    </tr>\n",
       "    <tr>\n",
       "      <th>2</th>\n",
       "      <td>GBoyC</td>\n",
       "      <td>6.272727</td>\n",
       "      <td>8.166667</td>\n",
       "      <td>5.307692</td>\n",
       "      <td>4.500000</td>\n",
       "      <td>6.352941</td>\n",
       "      <td>6.583333</td>\n",
       "      <td>7.285714</td>\n",
       "      <td>5.897436</td>\n",
       "      <td>4.500000</td>\n",
       "      <td>5.900000</td>\n",
       "      <td>5.790698</td>\n",
       "      <td>7.400000</td>\n",
       "    </tr>\n",
       "    <tr>\n",
       "      <th>3</th>\n",
       "      <td>Gcube</td>\n",
       "      <td>6.532584</td>\n",
       "      <td>7.608333</td>\n",
       "      <td>6.753846</td>\n",
       "      <td>7.422222</td>\n",
       "      <td>6.665714</td>\n",
       "      <td>6.133333</td>\n",
       "      <td>7.890909</td>\n",
       "      <td>6.852632</td>\n",
       "      <td>6.981818</td>\n",
       "      <td>8.028571</td>\n",
       "      <td>7.481319</td>\n",
       "      <td>7.116667</td>\n",
       "    </tr>\n",
       "    <tr>\n",
       "      <th>4</th>\n",
       "      <td>Nin3DS</td>\n",
       "      <td>6.670833</td>\n",
       "      <td>7.481818</td>\n",
       "      <td>7.414286</td>\n",
       "      <td>6.614286</td>\n",
       "      <td>7.503448</td>\n",
       "      <td>8.000000</td>\n",
       "      <td>7.719231</td>\n",
       "      <td>6.900000</td>\n",
       "      <td>7.033333</td>\n",
       "      <td>7.700000</td>\n",
       "      <td>6.388889</td>\n",
       "      <td>7.900000</td>\n",
       "    </tr>\n",
       "  </tbody>\n",
       "</table>\n",
       "</div>"
      ],
      "text/plain": [
       "  Platform    Action  Action, Adventure  Adventure  Fighting  Platformer  \\\n",
       "0   DrCast  6.882857           7.511111   6.281818  8.200000    8.340000   \n",
       "1   GBoyAd  6.373077           7.507692   6.057143  6.226316    6.970588   \n",
       "2    GBoyC  6.272727           8.166667   5.307692  4.500000    6.352941   \n",
       "3    Gcube  6.532584           7.608333   6.753846  7.422222    6.665714   \n",
       "4   Nin3DS  6.670833           7.481818   7.414286  6.614286    7.503448   \n",
       "\n",
       "     Puzzle       RPG    Racing   Shooter  Simulation    Sports  Strategy  \n",
       "0  8.088889  7.700000  7.042500  7.616667    7.628571  7.272222  6.433333  \n",
       "1  6.532143  7.542857  6.657143  6.444444    6.928571  6.694444  7.175000  \n",
       "2  6.583333  7.285714  5.897436  4.500000    5.900000  5.790698  7.400000  \n",
       "3  6.133333  7.890909  6.852632  6.981818    8.028571  7.481319  7.116667  \n",
       "4  8.000000  7.719231  6.900000  7.033333    7.700000  6.388889  7.900000  "
      ]
     },
     "execution_count": 5,
     "metadata": {},
     "output_type": "execute_result"
    }
   ],
   "source": [
    "ign = pd.read_csv('../Datasets/data_ign_scores.csv',encoding = 'unicode_escape')\n",
    "#https://www.kaggle.com/alexisbcook/data-for-datavis?select=ign_scores.csv\n",
    "ign.head()"
   ]
  },
  {
   "cell_type": "code",
   "execution_count": null,
   "metadata": {},
   "outputs": [],
   "source": []
  },
  {
   "cell_type": "code",
   "execution_count": null,
   "metadata": {},
   "outputs": [],
   "source": [
    "plt.figure (figsize = (20,4))\n",
    "\n",
    "plt.scatter(ign ['Platform'], ign['Action'],color =\"#ff4d4d\")\n",
    "\n",
    "plt.title('Ign Scroes')\n",
    "plt.xlabel('$ Platform $ ')\n",
    "plt.ylabel('$ Action Ratings $')"
   ]
  },
  {
   "cell_type": "code",
   "execution_count": null,
   "metadata": {},
   "outputs": [],
   "source": [
    "plt.figure(figsize=(20,6))\n",
    "\n",
    "# \"alpha\" is used for softnening colors\n",
    "\n",
    "plt.rcParams['text.color'] = 'red' # Label Color\n",
    "plt.scatter(ign['Platform'], ign['Action'],c='r', s=50 , alpha=0.8 , label = 'Action' )\n",
    "plt.scatter(ign['Platform'], ign['Fighting'],c='b', s=100 , alpha=0.8 , label = 'Fighting')\n",
    "plt.scatter(ign['Platform'], ign['Racing'],c='g', s=150 , alpha=0.8 , label = 'Racing')\n",
    "plt.scatter(ign['Platform'], ign['Puzzle'],c='y', s=200 , alpha=0.8 , label = 'Puzzle')\n",
    "plt.legend(bbox_to_anchor=(1.0, 1.0) , shadow=True, fontsize='x-large')\n",
    "\n",
    "plt.show()"
   ]
  },
  {
   "cell_type": "markdown",
   "metadata": {},
   "source": [
    "##  Refer this link for more information on customising your legends [Legend Guide](https://matplotlib.org/3.1.1/tutorials/intermediate/legend_guide.html)"
   ]
  },
  {
   "cell_type": "markdown",
   "metadata": {},
   "source": [
    "#### Creating Histograms can be done by using the *Hist*  command, for Categorical data"
   ]
  },
  {
   "cell_type": "code",
   "execution_count": null,
   "metadata": {},
   "outputs": [],
   "source": [
    "fig, ax = plt.subplots()\n",
    "# plot histogram\n",
    "ax.hist(ign['Fighting'])\n",
    "\n",
    "\n",
    "ax.set_xlabel('Points')\n",
    "ax.set_ylabel('Frequency')"
   ]
  },
  {
   "cell_type": "markdown",
   "metadata": {},
   "source": [
    "## Pandas Visualization\n",
    "\n",
    "### Pandas Visualization makes it really easy to create plots out of a pandas dataframe and series. It also has a higher level API than Matplotlib and therefore we need less code"
   ]
  },
  {
   "cell_type": "code",
   "execution_count": null,
   "metadata": {},
   "outputs": [],
   "source": [
    "ign.plot.hist(subplots=True, layout=(4,4), figsize=(20, 20), bins=20)\n",
    "\n",
    "plt.show()"
   ]
  },
  {
   "cell_type": "code",
   "execution_count": null,
   "metadata": {},
   "outputs": [],
   "source": [
    "ign.groupby(\"Platform\").Racing.mean().sort_values(ascending=False)[:15].plot.bar(color ='#4D1A3B')"
   ]
  },
  {
   "cell_type": "code",
   "execution_count": null,
   "metadata": {},
   "outputs": [],
   "source": [
    "ign['Strategy'].plot.hist()"
   ]
  },
  {
   "cell_type": "code",
   "execution_count": null,
   "metadata": {},
   "outputs": [],
   "source": [
    "df = pd.DataFrame({'count': {0: 500, 1: 600, 2: 726, 3: 326, 4: 410}})\n",
    "\n",
    "ax = df.T.plot(kind='bar', color=['C0', 'C1', 'C2', 'C3', 'C4'])\n",
    "\n",
    "plt.show()"
   ]
  },
  {
   "cell_type": "markdown",
   "metadata": {},
   "source": [
    "## Area Plots\n",
    "\n",
    "Area charts are commonly used to showcase data that depicts a time-series relationship\n",
    "\n",
    "\n",
    "### You can create area plots with Series or Data Frames. Area plots are stacked by default.   <br> \n",
    "\n",
    "<li> For Area Plots, column must either have all positive or all negative values.\n",
    "\n",
    "<li> When input data contains NaN, it will be automatically filled by 0. If you want to drop or fill by different values, use dataframe.dropna() or dataframe.fillna() before calling plot."
   ]
  },
  {
   "cell_type": "code",
   "execution_count": null,
   "metadata": {},
   "outputs": [],
   "source": [
    "df = pd.DataFrame(np.random.rand(10, 4), columns=['a', 'b', 'c', 'd'])\n",
    "\n",
    "df.plot.area();"
   ]
  },
  {
   "cell_type": "code",
   "execution_count": null,
   "metadata": {},
   "outputs": [],
   "source": [
    "df.plot.area(stacked =False)"
   ]
  },
  {
   "cell_type": "markdown",
   "metadata": {},
   "source": [
    "## Hexagonal Bin Plots <br>\n",
    "\n",
    "### <li> These plots can be a useful alternative to scatter plots if your data are too dense to plot each point individually."
   ]
  },
  {
   "cell_type": "code",
   "execution_count": null,
   "metadata": {},
   "outputs": [],
   "source": [
    "n = 10000\n",
    "df = pd.DataFrame({'x': np.random.randn(n),\n",
    "                   'y': np.random.randn(n)})\n",
    "ax = df.plot.hexbin(x='x', y='y', gridsize=25)"
   ]
  },
  {
   "cell_type": "markdown",
   "metadata": {},
   "source": [
    "<li> By default, a histogram of the counts around each (x, y) point is computed. <br> \n",
    "\n",
    "<li> You can specify alternative aggregations by passing values to the C and reduce_C_function arguments. C specifies the value at each (x, y) point and reduce_C_function is a function of one argument that reduces all the values in a bin to a single number (e.g. mean, max, sum, std). In this example the positions are given by columns a and b, while the value is given by column z. The bins are aggregated with NumPy’s max function.\n",
    "\n",
    "\n",
    "numpy.random.uniform(low=0.0, high=1.0, size=None)\n",
    "Draw samples from a uniform distribution."
   ]
  },
  {
   "cell_type": "code",
   "execution_count": null,
   "metadata": {},
   "outputs": [],
   "source": [
    "df = pd.DataFrame(np.random.randn(1000, 2), columns=['a', 'b'])\n",
    "\n",
    "df['b'] = df['b'] + np.arange(1000)\n",
    "df['z'] = np.random.uniform(0, 3, 1000)\n",
    "\n",
    "df.plot(kind='hexbin', x='a', y='b', C='z', reduce_C_function=np.max,\n",
    "       gridsize=20, color = 'red')\n"
   ]
  },
  {
   "cell_type": "markdown",
   "metadata": {},
   "source": [
    "## [Useful Guide for Specifying Colors](https://matplotlib.org/3.1.1/tutorials/colors/colors.html)"
   ]
  },
  {
   "cell_type": "markdown",
   "metadata": {},
   "source": [
    "# Seaborn\n",
    "\n",
    "\n",
    "### <li> Seaborn is a Python data visualization library based on matplotlib. It provides a high-level interface for drawing attractive and informative statistical graphics.\n",
    "\n"
   ]
  },
  {
   "cell_type": "code",
   "execution_count": null,
   "metadata": {},
   "outputs": [],
   "source": [
    "import seaborn as sns\n",
    "\n",
    "mpl.rcParams.update(mpl.rcParamsDefault)\n",
    "%matplotlib inline"
   ]
  },
  {
   "cell_type": "code",
   "execution_count": null,
   "metadata": {},
   "outputs": [],
   "source": [
    "cars = pd.read_csv('../Datasets/car_crashes.csv',encoding = 'unicode_escape')\n",
    "#https://www.kaggle.com/fivethirtyeight/fivethirtyeight-bad-drivers-dataset"
   ]
  },
  {
   "cell_type": "code",
   "execution_count": null,
   "metadata": {},
   "outputs": [],
   "source": [
    "cases = pd.read_csv('../Datasets/data_2020-Sep-07%20(1).csv',encoding = 'unicode_escape')\n",
    "#https://coronavirus.data.gov.uk/cases"
   ]
  },
  {
   "cell_type": "code",
   "execution_count": null,
   "metadata": {},
   "outputs": [],
   "source": [
    "insurance = pd.read_csv('../Datasets/insurance.csv',encoding = 'unicode_escape')\n",
    "#"
   ]
  },
  {
   "cell_type": "code",
   "execution_count": null,
   "metadata": {},
   "outputs": [],
   "source": [
    "cars.describe()"
   ]
  },
  {
   "cell_type": "code",
   "execution_count": null,
   "metadata": {},
   "outputs": [],
   "source": [
    "plt.figure(figsize=(20,6))\n",
    "sns.lineplot(data=cars['speeding'],linewidth = 1.5 , label = 'Speeding')\n",
    "sns.lineplot(data=cars['alcohol'],linewidth = 1.5 , label = 'Alcohol')\n",
    "sns.lineplot(data=cars['not_distracted'],linewidth = 1.5 , label = 'Not Distracted') \n",
    "plt.show()"
   ]
  },
  {
   "cell_type": "code",
   "execution_count": null,
   "metadata": {},
   "outputs": [],
   "source": [
    "plt.figure(figsize=(10,10))\n",
    "sns.scatterplot(x=\"speeding\", y=\"alcohol\", data=cars, color=\"Blue\")\n",
    "plt.title(\"collisions due to speeding across states\\n\", fontsize=17)\n",
    "plt.show()"
   ]
  },
  {
   "cell_type": "code",
   "execution_count": null,
   "metadata": {},
   "outputs": [],
   "source": [
    "coffee = pd.read_csv('../Datasets/Coffee_and_code.csv',encoding = 'unicode_escape')\n",
    "#https://www.kaggle.com/devready/coffee-and-code\n",
    "coffee.head()"
   ]
  },
  {
   "cell_type": "code",
   "execution_count": null,
   "metadata": {},
   "outputs": [],
   "source": [
    "coffee.columns"
   ]
  },
  {
   "cell_type": "markdown",
   "metadata": {},
   "source": [
    "## Pairplot <br>\n",
    "\n",
    "<li> Plot pairwise relationships in a dataset.\n",
    "\n",
    "<li> By default, this function will create a grid of Axes such that each numeric variable in data will by shared in the y-axis across a single row and in the x-axis across a single column. The diagonal Axes are treated differently, drawing a plot to show the univariate distribution of the data for the variable in that column.  <br>\n",
    "    \n",
    "\n",
    "   [Read More here](https://seaborn.pydata.org/generated/seaborn.pairplot.html)"
   ]
  },
  {
   "cell_type": "code",
   "execution_count": null,
   "metadata": {},
   "outputs": [],
   "source": [
    "sns.set_style(\"darkgrid\")\n",
    "sns.pairplot(coffee,height=4)\n"
   ]
  },
  {
   "cell_type": "markdown",
   "metadata": {},
   "source": [
    "## Catplots <br>\n",
    "\n",
    "<li> This function provides access to several axes-level functions that show the relationship between a numerical and one or more categorical variables using one of several visual representations. <br> \n",
    "    \n",
    " <b> Refer this link for [More Info](https://seaborn.pydata.org/generated/seaborn.catplot.html) </b>\n",
    "\n",
    "The kind parameter selects the underlying axes-level function to use:\n",
    "\n",
    "<b> Categorical scatterplots: </b>\n",
    "\n",
    "<li> stripplot() (with kind=\"strip\"; the default)\n",
    "<li> swarmplot() \n",
    "\n",
    "<b> Categorical distribution plots: </b>\n",
    "\n",
    "<li> boxplot() \n",
    "<li> violinplot() \n",
    "<li> boxenplot()\n",
    "\n",
    "<b> Categorical estimate plots: </b>\n",
    "\n",
    "<li> pointplot()\n",
    "<li> barplot() \n",
    "<li> countplot()"
   ]
  },
  {
   "cell_type": "code",
   "execution_count": null,
   "metadata": {},
   "outputs": [],
   "source": [
    "sns.catplot(x=\"AgeRange\",y=\"CoffeeCupsPerDay\",data=coffee,hue=\"Gender\",aspect=2,kind=\"point\")"
   ]
  },
  {
   "cell_type": "code",
   "execution_count": null,
   "metadata": {},
   "outputs": [],
   "source": [
    "plt.figure(figsize=(15,5))\n",
    "\n",
    "sns.countplot(coffee[\"CoffeeTime\"], palette=sns.color_palette(\"rainbow\",7))"
   ]
  },
  {
   "cell_type": "code",
   "execution_count": null,
   "metadata": {},
   "outputs": [],
   "source": [
    "plt.figure(figsize=(15,5))\n",
    "\n",
    "sns.boxplot(x=\"CoffeeTime\",y=\"CoffeeCupsPerDay\",data=coffee)\n",
    "plt.show()"
   ]
  },
  {
   "cell_type": "markdown",
   "metadata": {},
   "source": [
    "### [Understanding Box Plots](https://towardsdatascience.com/understanding-boxplots-5e2df7bcbd51)"
   ]
  },
  {
   "cell_type": "code",
   "execution_count": null,
   "metadata": {},
   "outputs": [],
   "source": [
    "sns.set(rc={\"figure.figsize\":(10,5)},style=\"darkgrid\")\n",
    "\n",
    "sns.stripplot(x=\"AgeRange\", y=\"CoffeeCupsPerDay\", data=coffee)"
   ]
  },
  {
   "cell_type": "code",
   "execution_count": null,
   "metadata": {},
   "outputs": [],
   "source": [
    "plt.figure(figsize=(16,7))\n",
    "sns.violinplot(x= insurance.region , y = insurance.expenses , hue= insurance.smoker , palette=\"Set2\")\n",
    "plt.show()"
   ]
  },
  {
   "cell_type": "code",
   "execution_count": null,
   "metadata": {},
   "outputs": [],
   "source": [
    "plt.figure(figsize=(20,10))\n",
    "sns.violinplot(x= coffee.CoffeeType, y = coffee.CoffeeCupsPerDay , hue= coffee.Gender , palette=\"bright\")\n",
    "plt.show()"
   ]
  },
  {
   "cell_type": "code",
   "execution_count": null,
   "metadata": {
    "scrolled": true
   },
   "outputs": [],
   "source": [
    "sns.boxenplot(x=insurance.smoker , y = insurance.expenses ,palette=\"Set1\")\n",
    "plt.show()"
   ]
  },
  {
   "cell_type": "markdown",
   "metadata": {},
   "source": [
    " ## [Choosing Color Palettes in Seaborn](https://seaborn.pydata.org/tutorial/color_palettes.html)"
   ]
  },
  {
   "cell_type": "markdown",
   "metadata": {},
   "source": [
    "## FacetGrid\n",
    "\n",
    "[More Info:](https://seaborn.pydata.org/generated/seaborn.FacetGrid.html?highlight=facetgrid#seaborn.FacetGrid)"
   ]
  },
  {
   "cell_type": "code",
   "execution_count": null,
   "metadata": {
    "scrolled": true
   },
   "outputs": [],
   "source": [
    "i = sns.FacetGrid(insurance, col=\"region\",height=4)\n",
    "i = i.map(plt.hist,\"age\", linewidth=2)"
   ]
  },
  {
   "cell_type": "code",
   "execution_count": null,
   "metadata": {},
   "outputs": [],
   "source": [
    "i = sns.FacetGrid(insurance, col=\"region\" , row = \"sex\" , hue=\"smoker\" ,height=4, aspect=1)\n",
    "i = i.map(plt.scatter, \"bmi\" , \"expenses\" , edgecolor=\"w\",s=80)\n",
    "i.add_legend()"
   ]
  },
  {
   "cell_type": "markdown",
   "metadata": {},
   "source": [
    "### PairGrid "
   ]
  },
  {
   "cell_type": "code",
   "execution_count": null,
   "metadata": {},
   "outputs": [],
   "source": [
    "ca = sns.PairGrid(cases , hue='areaName' ,vars=[\"newCasesBySpecimenDate\" , \"cumCasesBySpecimenDate\"],height=6, aspect=2)\n",
    "ca = ca.map_offdiag(plt.scatter , edgecolor=\"w\", s=130)\n",
    "ca = ca.map_diag(plt.hist , edgecolor ='w', linewidth=2)\n",
    "ca = ca.add_legend()\n"
   ]
  },
  {
   "cell_type": "markdown",
   "metadata": {},
   "source": [
    "## KDE Plot\n",
    "\n",
    "KDE Plot described as Kernel Density Estimate is used for visualizing the Probability Density of a continuous variable. It depicts the probability density at different values in a continuous variable"
   ]
  },
  {
   "cell_type": "code",
   "execution_count": null,
   "metadata": {},
   "outputs": [],
   "source": [
    "\n",
    "sns.kdeplot(insurance.bmi,insurance.expenses,shade=True,cmap=\"Blues\", shade_lowest=False)\n",
    "plt.show()"
   ]
  },
  {
   "cell_type": "markdown",
   "metadata": {},
   "source": [
    "### [Cmap Reference](https://matplotlib.org/examples/color/colormaps_reference.html)"
   ]
  },
  {
   "cell_type": "markdown",
   "metadata": {},
   "source": [
    "## HeatMap"
   ]
  },
  {
   "cell_type": "code",
   "execution_count": null,
   "metadata": {},
   "outputs": [],
   "source": [
    "data = np.random.rand(4, 6)\n",
    "\n",
    "heat_map = sns.heatmap(data)"
   ]
  },
  {
   "cell_type": "code",
   "execution_count": null,
   "metadata": {
    "scrolled": true
   },
   "outputs": [],
   "source": [
    "flights= pd.read_csv('../Datasets/flights.csv',encoding = 'unicode_escape')\n",
    "#https://github.com/mwaskom/seaborn-data/blob/master/flights.csv\n"
   ]
  },
  {
   "cell_type": "code",
   "execution_count": null,
   "metadata": {},
   "outputs": [],
   "source": [
    "flights = flights.pivot(\"month\", \"year\", \"passengers\")\n",
    "ax = sns.heatmap(flights) "
   ]
  },
  {
   "cell_type": "code",
   "execution_count": null,
   "metadata": {},
   "outputs": [],
   "source": [
    "ax = sns.heatmap(flights, linewidths=.5,annot=True, fmt='d') "
   ]
  },
  {
   "cell_type": "code",
   "execution_count": null,
   "metadata": {},
   "outputs": [],
   "source": [
    "ax = sns.heatmap(flights, linewidths=0.5, cmap = 'cubehelix')"
   ]
  },
  {
   "cell_type": "code",
   "execution_count": null,
   "metadata": {},
   "outputs": [],
   "source": [
    "data = np.random.randn(50, 20)\n",
    "ax = sns.heatmap(data, xticklabels=2, yticklabels=False)"
   ]
  },
  {
   "cell_type": "code",
   "execution_count": 6,
   "metadata": {},
   "outputs": [],
   "source": [
    "music = pd.read_csv('../Datasets/data_by_genres.csv')\n",
    "#https://www.kaggle.com/yamaerenay/spotify-dataset-19212020-160k-tracks?select=data_by_genres.csv"
   ]
  },
  {
   "cell_type": "code",
   "execution_count": null,
   "metadata": {},
   "outputs": [],
   "source": []
  }
 ],
 "metadata": {
  "kernelspec": {
   "display_name": "Python 3",
   "language": "python",
   "name": "python3"
  },
  "language_info": {
   "codemirror_mode": {
    "name": "ipython",
    "version": 3
   },
   "file_extension": ".py",
   "mimetype": "text/x-python",
   "name": "python",
   "nbconvert_exporter": "python",
   "pygments_lexer": "ipython3",
   "version": "3.8.8"
  }
 },
 "nbformat": 4,
 "nbformat_minor": 1
}
